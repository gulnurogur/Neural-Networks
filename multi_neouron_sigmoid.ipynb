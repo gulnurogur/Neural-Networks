{
  "nbformat": 4,
  "nbformat_minor": 0,
  "metadata": {
    "colab": {
      "provenance": [],
      "authorship_tag": "ABX9TyOctlIdGFi+ZZ3fIwi71Yew",
      "include_colab_link": true
    },
    "kernelspec": {
      "name": "python3",
      "display_name": "Python 3"
    },
    "language_info": {
      "name": "python"
    }
  },
  "cells": [
    {
      "cell_type": "markdown",
      "metadata": {
        "id": "view-in-github",
        "colab_type": "text"
      },
      "source": [
        "<a href=\"https://colab.research.google.com/github/gulnurogur/Neural-Networks/blob/main/multi_neouron_sigmoid.ipynb\" target=\"_parent\"><img src=\"https://colab.research.google.com/assets/colab-badge.svg\" alt=\"Open In Colab\"/></a>"
      ]
    },
    {
      "cell_type": "code",
      "execution_count": null,
      "metadata": {
        "id": "UGjuLmTzjyqw"
      },
      "outputs": [],
      "source": [
        "import numpy as np\n",
        "import pandas as pd\n",
        "import time"
      ]
    },
    {
      "cell_type": "code",
      "source": [
        "np.random.seed(seed=int(time.time()))"
      ],
      "metadata": {
        "id": "hHvgpnhfj-iq"
      },
      "execution_count": null,
      "outputs": []
    },
    {
      "cell_type": "code",
      "source": [
        "def sigmoid(x):\n",
        "  return 1 / (1 + np.exp(-1 * x))\n"
      ],
      "metadata": {
        "id": "JtWDFsjnkEhN"
      },
      "execution_count": null,
      "outputs": []
    },
    {
      "cell_type": "code",
      "source": [
        "def sigmoid_turev(x):\n",
        "  return sigmoid(x) * (1 - sigmoid(x))"
      ],
      "metadata": {
        "id": "ClzbygcqDNdw"
      },
      "execution_count": null,
      "outputs": []
    },
    {
      "cell_type": "code",
      "source": [
        "dataframe = pd.read_csv(\"iris1.csv\")"
      ],
      "metadata": {
        "id": "sLjK8aRkkIMl"
      },
      "execution_count": null,
      "outputs": []
    },
    {
      "cell_type": "code",
      "source": [
        "print(dataframe.head())"
      ],
      "metadata": {
        "colab": {
          "base_uri": "https://localhost:8080/"
        },
        "id": "Yd6VraakkNaO",
        "outputId": "8d6dd683-535b-44c0-e471-0f61bd8e82c8"
      },
      "execution_count": null,
      "outputs": [
        {
          "output_type": "stream",
          "name": "stdout",
          "text": [
            "    X1   X2   X3   X4         Type\n",
            "0  5.1  3.5  1.4  0.2  Iris-setosa\n",
            "1  4.9  3.0  1.4  0.2  Iris-setosa\n",
            "2  4.7  3.2  1.3  0.2  Iris-setosa\n",
            "3  4.6  3.1  1.5  0.2  Iris-setosa\n",
            "4  5.0  3.6  1.4  0.2  Iris-setosa\n"
          ]
        }
      ]
    },
    {
      "cell_type": "code",
      "source": [
        "dataframe[\"y_1\"] = (dataframe[\"Type\"] == \"Iris-setosa\") * 1.0\n",
        "dataframe[\"y_2\"] = (dataframe[\"Type\"] == \"Iris-versicolor\") * 1.0\n",
        "dataframe[\"y_3\"] = (dataframe[\"Type\"] == \"Iris-virginica\") * 1.0"
      ],
      "metadata": {
        "id": "wmbsJBZmlCcf"
      },
      "execution_count": null,
      "outputs": []
    },
    {
      "cell_type": "code",
      "source": [
        "x_degerleri = dataframe[[\"X1\", \"X2\", \"X3\", \"X4\"]].to_numpy()\n",
        "y_degerleri = dataframe[[\"y_1\", \"y_2\", \"y_3\"]].to_numpy()"
      ],
      "metadata": {
        "id": "irwlNCRqlDo6"
      },
      "execution_count": null,
      "outputs": []
    },
    {
      "cell_type": "code",
      "source": [
        "print(dataframe)"
      ],
      "metadata": {
        "colab": {
          "base_uri": "https://localhost:8080/"
        },
        "id": "VEtBPO2olET5",
        "outputId": "d2f105a2-2009-40e5-d979-f0142a4e88a3"
      },
      "execution_count": null,
      "outputs": [
        {
          "output_type": "stream",
          "name": "stdout",
          "text": [
            "      X1   X2   X3   X4            Type  y_1  y_2  y_3\n",
            "0    5.1  3.5  1.4  0.2     Iris-setosa  1.0  0.0  0.0\n",
            "1    4.9  3.0  1.4  0.2     Iris-setosa  1.0  0.0  0.0\n",
            "2    4.7  3.2  1.3  0.2     Iris-setosa  1.0  0.0  0.0\n",
            "3    4.6  3.1  1.5  0.2     Iris-setosa  1.0  0.0  0.0\n",
            "4    5.0  3.6  1.4  0.2     Iris-setosa  1.0  0.0  0.0\n",
            "..   ...  ...  ...  ...             ...  ...  ...  ...\n",
            "145  6.7  3.0  5.2  2.3  Iris-virginica  0.0  0.0  1.0\n",
            "146  6.3  2.5  5.0  1.9  Iris-virginica  0.0  0.0  1.0\n",
            "147  6.5  3.0  5.2  2.0  Iris-virginica  0.0  0.0  1.0\n",
            "148  6.2  3.4  5.4  2.3  Iris-virginica  0.0  0.0  1.0\n",
            "149  5.9  3.0  5.1  1.8  Iris-virginica  0.0  0.0  1.0\n",
            "\n",
            "[150 rows x 8 columns]\n"
          ]
        }
      ]
    },
    {
      "cell_type": "code",
      "source": [
        "class Flower():\n",
        "    def __init__(self, x_verileri, y_verileri, epoch_degeri):\n",
        "\n",
        "        self.x_veri = x_verileri\n",
        "        self.epoch = epoch_degeri\n",
        "        self.y_veri = y_verileri\n",
        "        self.k = 0\n",
        "\n",
        "        self.giris_z = 0\n",
        "        self.cikis_z = 0\n",
        "\n",
        "        self.agirlik_1 = np.random.random((4, 5))\n",
        "        self.agirlik_2 = np.random.random((5, 3))\n",
        "# Eğitim\n",
        "    def ileri_geri(self):\n",
        "      for j in range(self.epoch):\n",
        "        for i in range(len(self.x_veri)):\n",
        "          x_girdi = np.array([self.x_veri[i]])\n",
        "          y_girdi = np.array([self.y_veri[i]])\n",
        "\n",
        "          giris = x_girdi @ self.agirlik_1\n",
        "          giris_sigmoid = sigmoid(giris)\n",
        "\n",
        "          cikis = giris_sigmoid @ self.agirlik_2\n",
        "          cikis_sigmoid = sigmoid(cikis)\n",
        "\n",
        "          hata_cikis = y_girdi - cikis_sigmoid\n",
        "\n",
        "          cikis_türev = sigmoid_turev(cikis_sigmoid)\n",
        "          cikis_degisim = cikis_türev * hata_cikis\n",
        "\n",
        "          hata_giris = cikis_degisim @ self.agirlik_2.T\n",
        "\n",
        "          giris_turev = sigmoid_turev(giris_sigmoid)\n",
        "          giris_degisim  = giris_turev * hata_giris\n",
        "\n",
        "          self.agirlik_1 += x_girdi.T @ giris_degisim\n",
        "          self.agirlik_2 += giris_sigmoid.T @ cikis_degisim\n",
        "\n",
        "\n",
        "#Tahmin Etme\n",
        "    def tahmin_et(self, x_girdi):\n",
        "      adım_1 = x_girdi @ self.agirlik_1\n",
        "      adım_2 = sigmoid(adım_1)\n",
        "\n",
        "      adım_3 = adım_2 @ self.agirlik_2\n",
        "      tahmin = sigmoid(adım_3)\n",
        "\n",
        "      return tahmin.round(2)"
      ],
      "metadata": {
        "id": "KOziQSY7xdmT"
      },
      "execution_count": null,
      "outputs": []
    },
    {
      "cell_type": "code",
      "source": [
        "Tahmin_1 = Flower(x_degerleri, y_degerleri, epoch_degeri = 100)\n",
        "Tahmin_1.ileri_geri()"
      ],
      "metadata": {
        "id": "wMkyVT990c8M",
        "colab": {
          "base_uri": "https://localhost:8080/"
        },
        "outputId": "78bfbd5f-ad7c-4156-f8b9-9df50ab251a0"
      },
      "execution_count": null,
      "outputs": [
        {
          "output_type": "stream",
          "name": "stderr",
          "text": [
            "<ipython-input-4-a91def83cb74>:2: RuntimeWarning: overflow encountered in exp\n",
            "  return 1 / (1 + np.exp(-1 * x))\n"
          ]
        }
      ]
    },
    {
      "cell_type": "code",
      "source": [
        "# 5.1, 3.5, 1.4, 0.2 = 1 0 0\n",
        "\n",
        "# 5.0,2.0,3.5,1.0 = 0 1 0\n",
        "\n",
        "# 6.7,3.0,5.2,2.3 = 0 0 1\n",
        "test_veri_9 = np.array([[5.0,2.0,3.5,1.0]])\n",
        "\n",
        "Tahmin_1.tahmin_et(test_veri_9)"
      ],
      "metadata": {
        "colab": {
          "base_uri": "https://localhost:8080/"
        },
        "id": "WmribuatBrpq",
        "outputId": "afd7acc6-6bba-4fb1-c081-fc9514ca13fb"
      },
      "execution_count": null,
      "outputs": [
        {
          "output_type": "execute_result",
          "data": {
            "text/plain": [
              "array([[0.  , 0.04, 0.96]])"
            ]
          },
          "metadata": {},
          "execution_count": 20
        }
      ]
    },
    {
      "cell_type": "code",
      "source": [],
      "metadata": {
        "id": "ki3T7pKzb8QI"
      },
      "execution_count": null,
      "outputs": []
    }
  ]
}